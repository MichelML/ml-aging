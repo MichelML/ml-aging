{
 "cells": [
  {
   "cell_type": "markdown",
   "metadata": {},
   "source": [
    "# RXRX.AI\n",
    "\n",
    "> disclosure: some lines of code were taken from other kernels available on the kaggle's competition link https://www.kaggle.com/c/recursion-cellular-image-classification/kernels . Authors will be cited as much as possible where appropriate."
   ]
  },
  {
   "cell_type": "code",
   "execution_count": 1,
   "metadata": {},
   "outputs": [],
   "source": [
    "import sys\n",
    "import matplotlib.pyplot as plt\n",
    "import torch\n",
    "import numpy as np\n",
    "import pandas as pd"
   ]
  },
  {
   "cell_type": "code",
   "execution_count": 6,
   "metadata": {},
   "outputs": [
    {
     "name": "stdout",
     "output_type": "stream",
     "text": [
      "pixel_stats.csv.zip\t       test.csv\t\t  train.csv.zip\n",
      "recursion_dataset_license.pdf  test.zip\t\t  train.zip\n",
      "sample_submission.csv\t       test_controls.csv  train_controls.csv\n",
      "unzip:  cannot find or open /floyd/input/pixel_stats.csv.zip, /floyd/input/pixel_stats.csv.zip.zip or /floyd/input/pixel_stats.csv.zip.ZIP.\n"
     ]
    }
   ],
   "source": [
    "!ls /floyd/input/rxrxai\n",
    "!sudo unzip /floyd/input/pixel_stats.csv.zip"
   ]
  },
  {
   "cell_type": "code",
   "execution_count": null,
   "metadata": {},
   "outputs": [],
   "source": []
  }
 ],
 "metadata": {
  "kernelspec": {
   "display_name": "Python 3",
   "language": "python",
   "name": "python3"
  },
  "language_info": {
   "codemirror_mode": {
    "name": "ipython",
    "version": 3
   },
   "file_extension": ".py",
   "mimetype": "text/x-python",
   "name": "python",
   "nbconvert_exporter": "python",
   "pygments_lexer": "ipython3",
   "version": "3.6.5"
  }
 },
 "nbformat": 4,
 "nbformat_minor": 2
}
